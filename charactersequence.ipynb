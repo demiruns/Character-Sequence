{
 "cells": [
  {
   "cell_type": "code",
   "execution_count": 12,
   "metadata": {},
   "outputs": [
    {
     "name": "stdout",
     "output_type": "stream",
     "text": [
      "['a', 'g', 'i', 'm', 'n', 'z']\n",
      "{0: 'a', 1: 'g', 2: 'i', 3: 'm', 4: 'n', 5: 'z'}\n",
      "{'a': 0, 'g': 1, 'i': 2, 'm': 3, 'n': 4, 'z': 5}\n"
     ]
    }
   ],
   "source": [
    "text=\"Amazing\"\n",
    "text=text.lower()\n",
    "text_list=list(set(text))\n",
    "text_list=sorted(text_list)\n",
    "print(text_list)\n",
    "index_key={}\n",
    "char_key={}\n",
    "for index, char in enumerate(text_list):\n",
    "    index_key[index] = char\n",
    "    char_key[char] = index\n",
    "\n",
    "print(index_key)\n",
    "print(char_key)\n",
    "    \n"
   ]
  },
  {
   "cell_type": "code",
   "execution_count": 13,
   "metadata": {},
   "outputs": [
    {
     "name": "stdout",
     "output_type": "stream",
     "text": [
      "[0, 3, 0, 5, 2, 4, 1]\n"
     ]
    }
   ],
   "source": [
    "word_index=[]\n",
    "for i in text:\n",
    "    word_index.append(char_key[i])\n",
    "\n",
    "print(word_index)"
   ]
  },
  {
   "cell_type": "code",
   "execution_count": 19,
   "metadata": {},
   "outputs": [
    {
     "name": "stdout",
     "output_type": "stream",
     "text": [
      "[[0, 3, 0, 5], [3, 0, 5, 2], [0, 5, 2, 4]]\n",
      "[2, 4, 1]\n"
     ]
    }
   ],
   "source": [
    "sequence_length=4\n",
    "features=[]\n",
    "target=[]\n",
    "\n",
    "for i in range(len(word_index) - sequence_length):\n",
    "    features.append(word_index[i:i+sequence_length])\n",
    "    target.append(word_index[i+sequence_length])\n",
    "\n",
    "print(features)\n",
    "print(target)"
   ]
  },
  {
   "cell_type": "code",
   "execution_count": 20,
   "metadata": {},
   "outputs": [
    {
     "name": "stderr",
     "output_type": "stream",
     "text": [
      "/Library/Frameworks/Python.framework/Versions/3.11/lib/python3.11/site-packages/keras/src/layers/rnn/rnn.py:200: UserWarning: Do not pass an `input_shape`/`input_dim` argument to a layer. When using Sequential models, prefer using an `Input(shape)` object as the first layer in the model instead.\n",
      "  super().__init__(**kwargs)\n"
     ]
    }
   ],
   "source": [
    "from tensorflow.keras.models import Sequential\n",
    "from tensorflow.keras.layers import SimpleRNN, Dense\n",
    "model=Sequential(\n",
    "    [\n",
    "    SimpleRNN(128, input_shape=(sequence_length, len(text_list)), activation=\"relu\"),\n",
    "    Dense(len(text_list), activation=\"softmax\")\n",
    "    ]\n",
    ")\n",
    "\n",
    "model.compile(optimizer=\"adam\", loss=\"sparse_categorical_crossentropy\", metrics=[\"accuracy\"])\n"
   ]
  },
  {
   "cell_type": "code",
   "execution_count": 28,
   "metadata": {},
   "outputs": [
    {
     "name": "stdout",
     "output_type": "stream",
     "text": [
      "[[[0. 0. 0. 0. 0. 0.]\n",
      "  [0. 0. 0. 0. 0. 0.]\n",
      "  [0. 0. 0. 0. 0. 0.]\n",
      "  [0. 0. 0. 0. 0. 0.]]\n",
      "\n",
      " [[0. 0. 0. 0. 0. 0.]\n",
      "  [0. 0. 0. 0. 0. 0.]\n",
      "  [0. 0. 0. 0. 0. 0.]\n",
      "  [0. 0. 0. 0. 0. 0.]]\n",
      "\n",
      " [[0. 0. 0. 0. 0. 0.]\n",
      "  [0. 0. 0. 0. 0. 0.]\n",
      "  [0. 0. 0. 0. 0. 0.]\n",
      "  [0. 0. 0. 0. 0. 0.]]]\n",
      "[[[1. 0. 0. 0. 0. 0.]\n",
      "  [0. 0. 0. 1. 0. 0.]\n",
      "  [1. 0. 0. 0. 0. 0.]\n",
      "  [0. 0. 0. 0. 0. 1.]]\n",
      "\n",
      " [[0. 0. 0. 1. 0. 0.]\n",
      "  [1. 0. 0. 0. 0. 0.]\n",
      "  [0. 0. 0. 0. 0. 1.]\n",
      "  [0. 0. 1. 0. 0. 0.]]\n",
      "\n",
      " [[1. 0. 0. 0. 0. 0.]\n",
      "  [0. 0. 0. 0. 0. 1.]\n",
      "  [0. 0. 1. 0. 0. 0.]\n",
      "  [0. 0. 0. 0. 1. 0.]]]\n"
     ]
    }
   ],
   "source": [
    "import numpy as np\n",
    "zeros_list=np.zeros([len(word_index)-sequence_length, sequence_length, len(text_list)])\n",
    "\n",
    "for index, item in enumerate(features):\n",
    "    for index2, item2 in enumerate(item):\n",
    "        zeros_list[index, index2, item2] = 1\n",
    "\n",
    "print(zeros_list)"
   ]
  }
 ],
 "metadata": {
  "kernelspec": {
   "display_name": "Python 3",
   "language": "python",
   "name": "python3"
  },
  "language_info": {
   "codemirror_mode": {
    "name": "ipython",
    "version": 3
   },
   "file_extension": ".py",
   "mimetype": "text/x-python",
   "name": "python",
   "nbconvert_exporter": "python",
   "pygments_lexer": "ipython3",
   "version": "3.11.4"
  },
  "orig_nbformat": 4
 },
 "nbformat": 4,
 "nbformat_minor": 2
}
